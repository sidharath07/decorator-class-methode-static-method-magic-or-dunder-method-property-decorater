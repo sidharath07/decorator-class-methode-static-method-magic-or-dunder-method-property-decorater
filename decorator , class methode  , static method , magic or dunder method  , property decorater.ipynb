{
 "cells": [
  {
   "cell_type": "code",
   "execution_count": 2,
   "id": "baa1a7a8-20f5-4341-abef-8738b1f8ce30",
   "metadata": {},
   "outputs": [],
   "source": [
    "# dwcorator :- incriesing the beauty of the function"
   ]
  },
  {
   "cell_type": "code",
   "execution_count": 5,
   "id": "d3a5336d-944d-4e9a-aace-b34812a9267e",
   "metadata": {},
   "outputs": [],
   "source": [
    "def test():\n",
    "    print(\"this is the start of my fun \")\n",
    "    print(\"this is my fun to test\")\n",
    "    print(\"this is the end of the function\")"
   ]
  },
  {
   "cell_type": "code",
   "execution_count": 6,
   "id": "4ae4e3db-7bdc-4830-8ae6-fb580b36bade",
   "metadata": {},
   "outputs": [
    {
     "name": "stdout",
     "output_type": "stream",
     "text": [
      "this is the start of my fun \n",
      "this is my fun to test\n",
      "this is the end of the function\n"
     ]
    }
   ],
   "source": [
    "test()"
   ]
  },
  {
   "cell_type": "code",
   "execution_count": 7,
   "id": "d322d745-54e9-404a-8952-cd01a70d5fec",
   "metadata": {},
   "outputs": [],
   "source": [
    "# this is decorator function\n",
    "def deco(func):\n",
    "    def inner_dec():\n",
    "        print(\"this is the star of my func\")\n",
    "        func()\n",
    "        print(\"this is end of my func\")\n",
    "    return inner_dec    "
   ]
  },
  {
   "cell_type": "code",
   "execution_count": 8,
   "id": "fafd0d4f-6e8f-435d-a88a-f015e52ec84c",
   "metadata": {},
   "outputs": [],
   "source": [
    "@deco\n",
    "def test1():\n",
    "    print(2+6)"
   ]
  },
  {
   "cell_type": "code",
   "execution_count": 9,
   "id": "325c24a2-782b-4e51-8305-535a88501dfe",
   "metadata": {},
   "outputs": [
    {
     "name": "stdout",
     "output_type": "stream",
     "text": [
      "this is the star of my func\n",
      "8\n",
      "this is end of my func\n"
     ]
    }
   ],
   "source": [
    "test1()"
   ]
  },
  {
   "cell_type": "code",
   "execution_count": 10,
   "id": "81a7f527-3291-4f2b-b2bb-f4e5d204bda6",
   "metadata": {},
   "outputs": [],
   "source": [
    "import time \n",
    "\n",
    "def timer_test(func):\n",
    "    def timer_test_inner ():\n",
    "        start = time.time()\n",
    "        func()\n",
    "        end = time.time()\n",
    "        print(end - start)\n",
    "    return timer_test_inner   \n",
    "    "
   ]
  },
  {
   "cell_type": "code",
   "execution_count": 13,
   "id": "54961e58-6397-40d3-84fa-4383dc459685",
   "metadata": {},
   "outputs": [],
   "source": [
    "@timer_test\n",
    "def test2():\n",
    "    print(45+87)"
   ]
  },
  {
   "cell_type": "code",
   "execution_count": 14,
   "id": "97ef0891-6f98-470d-a9e8-b4de2154be22",
   "metadata": {},
   "outputs": [
    {
     "name": "stdout",
     "output_type": "stream",
     "text": [
      "132\n",
      "4.291534423828125e-05\n"
     ]
    }
   ],
   "source": [
    "test2()"
   ]
  },
  {
   "cell_type": "code",
   "execution_count": 19,
   "id": "6633ade0-bd3a-43d0-88aa-b383bde5c397",
   "metadata": {},
   "outputs": [],
   "source": [
    "@timer_test\n",
    "def  test3():\n",
    "    for i in range(100000):\n",
    "        pass"
   ]
  },
  {
   "cell_type": "code",
   "execution_count": 20,
   "id": "2c5cf070-0518-4821-afcc-a2e8cbd6b3f4",
   "metadata": {},
   "outputs": [
    {
     "name": "stdout",
     "output_type": "stream",
     "text": [
      "0.001964569091796875\n"
     ]
    }
   ],
   "source": [
    "test3()"
   ]
  },
  {
   "cell_type": "code",
   "execution_count": 1,
   "id": "37a9bd58-2ae5-460a-8da5-2c5e74e94aa5",
   "metadata": {},
   "outputs": [],
   "source": [
    "# class methods"
   ]
  },
  {
   "cell_type": "code",
   "execution_count": 4,
   "id": "553f6d4c-d560-4bd1-9ca7-20e69bc619e0",
   "metadata": {},
   "outputs": [],
   "source": [
    "class pwskills :\n",
    "    \n",
    "    def __init__(self , name , gmail):\n",
    "        self.name = name \n",
    "        self.gmail = gmail\n",
    "        \n",
    "    def return_all_detials(self):\n",
    "        return self.name , self.name"
   ]
  },
  {
   "cell_type": "code",
   "execution_count": 12,
   "id": "c17e3e22-7f5b-4dcb-aa8a-808769c097e9",
   "metadata": {},
   "outputs": [],
   "source": [
    "pw = pwskills(\"sidharth \" ,\"sidharthkushwah@gmail.com\")"
   ]
  },
  {
   "cell_type": "code",
   "execution_count": 14,
   "id": "a455f8e9-8f85-4094-a100-9b5be26b40e3",
   "metadata": {},
   "outputs": [
    {
     "data": {
      "text/plain": [
       "'sidharthkushwah@gmail.com'"
      ]
     },
     "execution_count": 14,
     "metadata": {},
     "output_type": "execute_result"
    }
   ],
   "source": [
    "pw.gmail"
   ]
  },
  {
   "cell_type": "code",
   "execution_count": 15,
   "id": "1898ddc4-171d-41df-9e79-90f79d439033",
   "metadata": {},
   "outputs": [
    {
     "data": {
      "text/plain": [
       "'sidharth '"
      ]
     },
     "execution_count": 15,
     "metadata": {},
     "output_type": "execute_result"
    }
   ],
   "source": [
    "pw.name"
   ]
  },
  {
   "cell_type": "code",
   "execution_count": 17,
   "id": "98945d72-b4cf-4a01-8174-46132678f2d6",
   "metadata": {},
   "outputs": [
    {
     "data": {
      "text/plain": [
       "('sidharth ', 'sidharth ')"
      ]
     },
     "execution_count": 17,
     "metadata": {},
     "output_type": "execute_result"
    }
   ],
   "source": [
    "pw.return_all_detials()"
   ]
  },
  {
   "cell_type": "code",
   "execution_count": 6,
   "id": "1ff09d56-55a1-40d5-9431-3177ad88d626",
   "metadata": {},
   "outputs": [],
   "source": [
    "class pwskills1 :\n",
    "    \n",
    "    def __init__(self , name , gmail):\n",
    "        self.name = name \n",
    "        self.gmail = gmail\n",
    "        \n",
    "    @classmethod\n",
    "    def detials(cls , name , gmail):\n",
    "        return cls(name , gmail)\n",
    "    \n",
    "    def return_all_detials(self):\n",
    "        return self.name , self.name"
   ]
  },
  {
   "cell_type": "code",
   "execution_count": 2,
   "id": "15c49370-1f47-4e96-ae9e-0338f253e016",
   "metadata": {},
   "outputs": [],
   "source": [
    "pw = pwskills1(\"sidharth\" , \"name\" )"
   ]
  },
  {
   "cell_type": "code",
   "execution_count": 5,
   "id": "4ee3256b-843c-4e42-bffa-bc3239296016",
   "metadata": {},
   "outputs": [
    {
     "data": {
      "text/plain": [
       "'sidharth'"
      ]
     },
     "execution_count": 5,
     "metadata": {},
     "output_type": "execute_result"
    }
   ],
   "source": [
    "pw.name"
   ]
  },
  {
   "cell_type": "code",
   "execution_count": 4,
   "id": "5fa18c05-3cf6-4bfa-b932-81762261c341",
   "metadata": {},
   "outputs": [
    {
     "data": {
      "text/plain": [
       "'name'"
      ]
     },
     "execution_count": 4,
     "metadata": {},
     "output_type": "execute_result"
    }
   ],
   "source": [
    "pw.gmail"
   ]
  },
  {
   "cell_type": "code",
   "execution_count": 26,
   "id": "f67f54cc-0c14-4f82-a964-4e57d9551b13",
   "metadata": {},
   "outputs": [
    {
     "data": {
      "text/plain": [
       "('sidharth', 'sidharth')"
      ]
     },
     "execution_count": 26,
     "metadata": {},
     "output_type": "execute_result"
    }
   ],
   "source": [
    "pw.return_all_detials()"
   ]
  },
  {
   "cell_type": "code",
   "execution_count": 35,
   "id": "a7c903c3-6ffa-42fc-a153-13b1cd6be9de",
   "metadata": {},
   "outputs": [],
   "source": [
    "class pwskills2 :\n",
    "    \n",
    "    mob_num = 9155550806\n",
    "    \n",
    "    def __init__(self , name , gmail):\n",
    "        self.name = name \n",
    "        self.gmail = gmail\n",
    "        \n",
    "    @classmethod\n",
    "    def detials(cls , name , gmail):\n",
    "        return cls(name , gmail)\n",
    "    @classmethod\n",
    "    def change_number(cls , mob):\n",
    "        pwskills.mob_num = mob\n",
    "        \n",
    "    def return_all_detials(self):\n",
    "        return (self.name , self.name , pwskills2.mob_num)"
   ]
  },
  {
   "cell_type": "code",
   "execution_count": 29,
   "id": "755889ec-ea4f-4250-b702-e6dfc7f4cabd",
   "metadata": {},
   "outputs": [
    {
     "data": {
      "text/plain": [
       "9155550806"
      ]
     },
     "execution_count": 29,
     "metadata": {},
     "output_type": "execute_result"
    }
   ],
   "source": [
    "pwskills2.mob_num"
   ]
  },
  {
   "cell_type": "code",
   "execution_count": 32,
   "id": "fd5f65e1-54d4-40b7-8658-4d5cd7f09262",
   "metadata": {},
   "outputs": [],
   "source": [
    "pwskills2.change_number(9661041005)"
   ]
  },
  {
   "cell_type": "code",
   "execution_count": 34,
   "id": "1764938e-9eff-4cfd-ba88-6785d8b677a1",
   "metadata": {},
   "outputs": [
    {
     "data": {
      "text/plain": [
       "9661041005"
      ]
     },
     "execution_count": 34,
     "metadata": {},
     "output_type": "execute_result"
    }
   ],
   "source": [
    "pwskills.mob_num"
   ]
  },
  {
   "cell_type": "code",
   "execution_count": 38,
   "id": "64b53238-7b8c-483f-b27a-03cf67cddc0a",
   "metadata": {},
   "outputs": [],
   "source": [
    "pw = pwskills2(\"sidharth\", \"sidhgs@gmail.com\")"
   ]
  },
  {
   "cell_type": "code",
   "execution_count": 39,
   "id": "64d29d20-33cc-46dc-8416-500b366cf4d2",
   "metadata": {},
   "outputs": [
    {
     "data": {
      "text/plain": [
       "('sidharth', 'sidharth', 9155550806)"
      ]
     },
     "execution_count": 39,
     "metadata": {},
     "output_type": "execute_result"
    }
   ],
   "source": [
    "pw.return_all_detials()"
   ]
  },
  {
   "cell_type": "code",
   "execution_count": 40,
   "id": "a3835101-a12c-477c-ac16-40906d634c81",
   "metadata": {},
   "outputs": [],
   "source": [
    "class pwskills3 :\n",
    "    \n",
    "    mob_num = 9155550806\n",
    "    \n",
    "    def __init__(self , name , gmail):\n",
    "        self.name = name \n",
    "        self.gmail = gmail\n",
    "        \n",
    "    @classmethod\n",
    "    def detials(cls , name , gmail):\n",
    "        return cls(name , gmail)\n",
    "    @classmethod\n",
    "    def change_number(cls , mob):\n",
    "        pwskills.mob_num = mob\n",
    "        \n",
    "    def return_all_detials(self):\n",
    "        return (self.name , self.name , pwskills2.mob_num)"
   ]
  },
  {
   "cell_type": "code",
   "execution_count": 41,
   "id": "b894feee-6fc4-43e3-b7b7-7125a8b8d722",
   "metadata": {},
   "outputs": [],
   "source": [
    "def cource_details(cls , course_name):\n",
    "    print(\"course name is \" , course_name)"
   ]
  },
  {
   "cell_type": "code",
   "execution_count": 42,
   "id": "c256e082-54bb-4446-b417-8d8fa0aa4dc7",
   "metadata": {},
   "outputs": [],
   "source": [
    "pwskills3.cource_detials = classmethod(cource_details)"
   ]
  },
  {
   "cell_type": "code",
   "execution_count": 45,
   "id": "baaa581c-1db4-4812-ba9d-136302e133e5",
   "metadata": {},
   "outputs": [
    {
     "name": "stdout",
     "output_type": "stream",
     "text": [
      "course name is  data science masters \n"
     ]
    }
   ],
   "source": [
    "pwskills3.cource_detials(\"data science masters \")"
   ]
  },
  {
   "cell_type": "code",
   "execution_count": 47,
   "id": "c3ed81f1-c617-4f4e-96dc-4f1f206c7913",
   "metadata": {},
   "outputs": [],
   "source": [
    "def mantor(cls, list_of_mentor):\n",
    "    print(list_of_mentor)"
   ]
  },
  {
   "cell_type": "code",
   "execution_count": 49,
   "id": "061a64e4-b225-4c54-8306-19d3931d0dc2",
   "metadata": {},
   "outputs": [],
   "source": [
    "pwskills3.mantor = classmethod(mantor)"
   ]
  },
  {
   "cell_type": "code",
   "execution_count": 51,
   "id": "e19fdde3-a7d0-46fb-9820-09d12b13f5b8",
   "metadata": {},
   "outputs": [
    {
     "name": "stdout",
     "output_type": "stream",
     "text": [
      "sidhath singh\n"
     ]
    }
   ],
   "source": [
    "pwskills3.mantor(\"sidhath singh\")"
   ]
  },
  {
   "cell_type": "code",
   "execution_count": 69,
   "id": "0f9471ed-9e24-4100-8c07-c4a4e7dd5526",
   "metadata": {},
   "outputs": [],
   "source": [
    "class pwskills4 :\n",
    "    \n",
    "    mob_num = 9155550806\n",
    "    \n",
    "    def __init__(self , name , gmail):\n",
    "        self.name = name \n",
    "        self.gmail = gmail\n",
    "        \n",
    "    @classmethod\n",
    "    def detials(cls , name , gmail):\n",
    "        return cls(name , gmail)\n",
    "    @classmethod\n",
    "    def change_number(cls , mob):\n",
    "        pwskills.mob_num = mob\n",
    "        \n",
    "    def return_all_detials(self):\n",
    "        return (self.name , self.name , pwskills2.mob_num)"
   ]
  },
  {
   "cell_type": "code",
   "execution_count": 70,
   "id": "4679ee7e-9015-4491-b6c0-217841241ef4",
   "metadata": {},
   "outputs": [],
   "source": [
    "del pwskills4.change_number"
   ]
  },
  {
   "cell_type": "code",
   "execution_count": 71,
   "id": "24169a75-10e7-4333-9220-17d7fc8dbe1a",
   "metadata": {},
   "outputs": [],
   "source": [
    "delattr(pwskills4 ,\"detials\")"
   ]
  },
  {
   "cell_type": "code",
   "execution_count": 72,
   "id": "16dde558-2361-416c-8acc-bbfab1c15361",
   "metadata": {},
   "outputs": [],
   "source": [
    "delattr(pwskills4 , \"return_all_detials\")"
   ]
  },
  {
   "cell_type": "code",
   "execution_count": 1,
   "id": "d9cd819d-20b8-4971-b14f-01cddd0a185d",
   "metadata": {},
   "outputs": [],
   "source": [
    "# static method"
   ]
  },
  {
   "cell_type": "code",
   "execution_count": 2,
   "id": "ec9b57a6-27cd-448d-a9f3-18c4b06192a3",
   "metadata": {},
   "outputs": [],
   "source": [
    "class pwskills():\n",
    "    \n",
    "    def __init__(self , name , gmail , mob_no):\n",
    "        print(name ,gmail , mob_no)\n",
    "    "
   ]
  },
  {
   "cell_type": "code",
   "execution_count": 4,
   "id": "2903e2b3-6963-40da-94cf-9d98f946dd0f",
   "metadata": {},
   "outputs": [
    {
     "name": "stdout",
     "output_type": "stream",
     "text": [
      "sidharth singh sidharth2gmail.com 9155550806\n"
     ]
    }
   ],
   "source": [
    "pw = pwskills(\"sidharth singh\" , \"sidharth2gmail.com\" , 9155550806)"
   ]
  },
  {
   "cell_type": "code",
   "execution_count": 10,
   "id": "e634da40-06c3-4bd1-bba2-128216886040",
   "metadata": {},
   "outputs": [],
   "source": [
    "class pwskills1():\n",
    "    \n",
    "    def student_detials(self,name , gmail , mob_no):\n",
    "        print(name , gmail , mob_no)\n",
    "        \n",
    "    @staticmethod    \n",
    "    def mentor_class(list_mentor):\n",
    "        print(list_mentor)\n",
    "        \n",
    "    def mentor(self,mentor_list):\n",
    "        print(mentor_list)   "
   ]
  },
  {
   "cell_type": "code",
   "execution_count": 11,
   "id": "19d3ad5b-2e91-4818-ac8c-23c69d7cb269",
   "metadata": {},
   "outputs": [
    {
     "name": "stdout",
     "output_type": "stream",
     "text": [
      "['sidhath ', 'naman']\n"
     ]
    }
   ],
   "source": [
    "pwskills1.mentor_class([\"sidhath \" , \"naman\"])"
   ]
  },
  {
   "cell_type": "code",
   "execution_count": 12,
   "id": "3998b287-fcdc-4a44-a4cf-d1d53ab00d3e",
   "metadata": {},
   "outputs": [],
   "source": [
    "std1 = pwskills1()"
   ]
  },
  {
   "cell_type": "code",
   "execution_count": 13,
   "id": "5eb18f62-164b-42a6-b34d-6cf664d04298",
   "metadata": {},
   "outputs": [],
   "source": [
    "std2 =pwskills1()"
   ]
  },
  {
   "cell_type": "code",
   "execution_count": 14,
   "id": "b8feaee8-f93d-4818-9ef2-6b469e9ed40f",
   "metadata": {},
   "outputs": [],
   "source": [
    "std3 = pwskills1()"
   ]
  },
  {
   "cell_type": "code",
   "execution_count": 16,
   "id": "abb817f5-8550-4078-8e43-60b446a943b3",
   "metadata": {},
   "outputs": [
    {
     "name": "stdout",
     "output_type": "stream",
     "text": [
      "['sidhath kushawah ']\n"
     ]
    }
   ],
   "source": [
    "std1.mentor([\"sidhath kushawah \"])"
   ]
  },
  {
   "cell_type": "code",
   "execution_count": 69,
   "id": "3bee6090-e99f-46bc-943c-39ea47d16da2",
   "metadata": {},
   "outputs": [],
   "source": [
    "class pwskills2 :\n",
    "    \n",
    "    def student_detials(self,name , gmail , mob_no):\n",
    "        print(name , gmail , mob_no)\n",
    "     \n",
    "    @staticmethod\n",
    "    def mentor_mail_id(mail_id_mentor):\n",
    "        print(mail_id_mentor)\n",
    "    \n",
    "    @staticmethod    \n",
    "    def mentor_class(list_mentor):\n",
    "        pwskills2.mentor_mail_id([\"sidharthkushwha@gmail\" , \"naman@gmail.com\"])\n",
    "        print(list_mentor)\n",
    "        \n",
    "    @classmethod\n",
    "    def class_name(cls):\n",
    "        cls.mentor_class([\"sidh\" , \"kush\"])\n",
    "        \n",
    "    def mentor(self,mentor_list):\n",
    "        print(mentor_list) \n",
    "        self.mentor_class([\"sidharth \" , \"naman\"])\n",
    "        "
   ]
  },
  {
   "cell_type": "code",
   "execution_count": 70,
   "id": "26b74470-fb9e-42ad-885a-e836e4def112",
   "metadata": {},
   "outputs": [
    {
     "name": "stdout",
     "output_type": "stream",
     "text": [
      "['sidharthkushwha@gmail', 'naman@gmail.com']\n",
      "['sidh', 'kush']\n"
     ]
    }
   ],
   "source": [
    "pwskills2.class_name()"
   ]
  },
  {
   "cell_type": "code",
   "execution_count": 71,
   "id": "21d7a672-e7bc-47c2-a0a4-5e2a92b0a3fa",
   "metadata": {},
   "outputs": [],
   "source": [
    "pw = pwskills2()"
   ]
  },
  {
   "cell_type": "code",
   "execution_count": 73,
   "id": "9027d775-ff10-4413-8397-3b2d53b9f27e",
   "metadata": {},
   "outputs": [
    {
     "name": "stdout",
     "output_type": "stream",
     "text": [
      "['sidhath', 'namn']\n",
      "['sidharthkushwha@gmail', 'naman@gmail.com']\n",
      "['sidharth ', 'naman']\n"
     ]
    }
   ],
   "source": [
    "pw.mentor([\"sidhath\" , \"namn\"])"
   ]
  },
  {
   "cell_type": "code",
   "execution_count": 56,
   "id": "e2740bcf-7c3d-4d44-843f-f5563bcf5685",
   "metadata": {},
   "outputs": [
    {
     "data": {
      "text/plain": [
       "['__abs__',\n",
       " '__add__',\n",
       " '__and__',\n",
       " '__bool__',\n",
       " '__ceil__',\n",
       " '__class__',\n",
       " '__delattr__',\n",
       " '__dir__',\n",
       " '__divmod__',\n",
       " '__doc__',\n",
       " '__eq__',\n",
       " '__float__',\n",
       " '__floor__',\n",
       " '__floordiv__',\n",
       " '__format__',\n",
       " '__ge__',\n",
       " '__getattribute__',\n",
       " '__getnewargs__',\n",
       " '__gt__',\n",
       " '__hash__',\n",
       " '__index__',\n",
       " '__init__',\n",
       " '__init_subclass__',\n",
       " '__int__',\n",
       " '__invert__',\n",
       " '__le__',\n",
       " '__lshift__',\n",
       " '__lt__',\n",
       " '__mod__',\n",
       " '__mul__',\n",
       " '__ne__',\n",
       " '__neg__',\n",
       " '__new__',\n",
       " '__or__',\n",
       " '__pos__',\n",
       " '__pow__',\n",
       " '__radd__',\n",
       " '__rand__',\n",
       " '__rdivmod__',\n",
       " '__reduce__',\n",
       " '__reduce_ex__',\n",
       " '__repr__',\n",
       " '__rfloordiv__',\n",
       " '__rlshift__',\n",
       " '__rmod__',\n",
       " '__rmul__',\n",
       " '__ror__',\n",
       " '__round__',\n",
       " '__rpow__',\n",
       " '__rrshift__',\n",
       " '__rshift__',\n",
       " '__rsub__',\n",
       " '__rtruediv__',\n",
       " '__rxor__',\n",
       " '__setattr__',\n",
       " '__sizeof__',\n",
       " '__str__',\n",
       " '__sub__',\n",
       " '__subclasshook__',\n",
       " '__truediv__',\n",
       " '__trunc__',\n",
       " '__xor__',\n",
       " 'as_integer_ratio',\n",
       " 'bit_count',\n",
       " 'bit_length',\n",
       " 'conjugate',\n",
       " 'denominator',\n",
       " 'from_bytes',\n",
       " 'imag',\n",
       " 'numerator',\n",
       " 'real',\n",
       " 'to_bytes']"
      ]
     },
     "execution_count": 56,
     "metadata": {},
     "output_type": "execute_result"
    }
   ],
   "source": [
    "dir(int)"
   ]
  },
  {
   "cell_type": "code",
   "execution_count": 57,
   "id": "99651a37-f00c-465a-9ee6-0db307622330",
   "metadata": {},
   "outputs": [
    {
     "data": {
      "text/plain": [
       "['__add__',\n",
       " '__class__',\n",
       " '__contains__',\n",
       " '__delattr__',\n",
       " '__dir__',\n",
       " '__doc__',\n",
       " '__eq__',\n",
       " '__format__',\n",
       " '__ge__',\n",
       " '__getattribute__',\n",
       " '__getitem__',\n",
       " '__getnewargs__',\n",
       " '__gt__',\n",
       " '__hash__',\n",
       " '__init__',\n",
       " '__init_subclass__',\n",
       " '__iter__',\n",
       " '__le__',\n",
       " '__len__',\n",
       " '__lt__',\n",
       " '__mod__',\n",
       " '__mul__',\n",
       " '__ne__',\n",
       " '__new__',\n",
       " '__reduce__',\n",
       " '__reduce_ex__',\n",
       " '__repr__',\n",
       " '__rmod__',\n",
       " '__rmul__',\n",
       " '__setattr__',\n",
       " '__sizeof__',\n",
       " '__str__',\n",
       " '__subclasshook__',\n",
       " 'capitalize',\n",
       " 'casefold',\n",
       " 'center',\n",
       " 'count',\n",
       " 'encode',\n",
       " 'endswith',\n",
       " 'expandtabs',\n",
       " 'find',\n",
       " 'format',\n",
       " 'format_map',\n",
       " 'index',\n",
       " 'isalnum',\n",
       " 'isalpha',\n",
       " 'isascii',\n",
       " 'isdecimal',\n",
       " 'isdigit',\n",
       " 'isidentifier',\n",
       " 'islower',\n",
       " 'isnumeric',\n",
       " 'isprintable',\n",
       " 'isspace',\n",
       " 'istitle',\n",
       " 'isupper',\n",
       " 'join',\n",
       " 'ljust',\n",
       " 'lower',\n",
       " 'lstrip',\n",
       " 'maketrans',\n",
       " 'partition',\n",
       " 'removeprefix',\n",
       " 'removesuffix',\n",
       " 'replace',\n",
       " 'rfind',\n",
       " 'rindex',\n",
       " 'rjust',\n",
       " 'rpartition',\n",
       " 'rsplit',\n",
       " 'rstrip',\n",
       " 'split',\n",
       " 'splitlines',\n",
       " 'startswith',\n",
       " 'strip',\n",
       " 'swapcase',\n",
       " 'title',\n",
       " 'translate',\n",
       " 'upper',\n",
       " 'zfill']"
      ]
     },
     "execution_count": 57,
     "metadata": {},
     "output_type": "execute_result"
    }
   ],
   "source": [
    "dir(str)"
   ]
  },
  {
   "cell_type": "code",
   "execution_count": 58,
   "id": "41f1783b-0c3d-4ab5-8d75-734ead753ed9",
   "metadata": {},
   "outputs": [],
   "source": [
    "a = 100"
   ]
  },
  {
   "cell_type": "code",
   "execution_count": 59,
   "id": "1ee30554-a3c1-407b-961a-6f36634bf280",
   "metadata": {},
   "outputs": [
    {
     "data": {
      "text/plain": [
       "105"
      ]
     },
     "execution_count": 59,
     "metadata": {},
     "output_type": "execute_result"
    }
   ],
   "source": [
    "a+5"
   ]
  },
  {
   "cell_type": "code",
   "execution_count": 60,
   "id": "b2192232-eaa2-48d8-90a2-b47d9bc5f42d",
   "metadata": {},
   "outputs": [
    {
     "data": {
      "text/plain": [
       "105"
      ]
     },
     "execution_count": 60,
     "metadata": {},
     "output_type": "execute_result"
    }
   ],
   "source": [
    "a.__add__(5)"
   ]
  },
  {
   "cell_type": "code",
   "execution_count": 61,
   "id": "5ad25f63-3da4-49e3-bd35-486208346329",
   "metadata": {},
   "outputs": [],
   "source": [
    "class pwskills :\n",
    "    \n",
    "    def __new__(cls):\n",
    "        print(\"this is new\")\n",
    "    \n",
    "    def __init__(self):\n",
    "        print(\"this is init\")\n",
    "        \n",
    "        self.mobile_number = 92234242"
   ]
  },
  {
   "cell_type": "code",
   "execution_count": 62,
   "id": "4dae4868-7b6c-4abc-96e8-2aaf67f65b5d",
   "metadata": {},
   "outputs": [
    {
     "name": "stdout",
     "output_type": "stream",
     "text": [
      "this is new\n"
     ]
    }
   ],
   "source": [
    "pw = pwskills()"
   ]
  },
  {
   "cell_type": "code",
   "execution_count": 63,
   "id": "e0006dab-bd92-48a1-947c-c3bd73b0932a",
   "metadata": {},
   "outputs": [],
   "source": [
    "class pwskills1 :\n",
    "    \n",
    "    \n",
    "    def __init__(self):\n",
    "        \n",
    "        \n",
    "        self.mobile_number = 92234242\n",
    "        \n",
    "    def __str__(self):\n",
    "        return \"this is my str function\""
   ]
  },
  {
   "cell_type": "code",
   "execution_count": 64,
   "id": "aa4037b9-c76d-4881-a7c8-9b4f27ad4415",
   "metadata": {},
   "outputs": [],
   "source": [
    "pw1 = pwskills1()"
   ]
  },
  {
   "cell_type": "code",
   "execution_count": 65,
   "id": "139f8acf-c6e0-43ec-bf49-fb0cd55cbaf2",
   "metadata": {},
   "outputs": [
    {
     "data": {
      "text/plain": [
       "<__main__.pwskills1 at 0x7efe08b468f0>"
      ]
     },
     "execution_count": 65,
     "metadata": {},
     "output_type": "execute_result"
    }
   ],
   "source": [
    "pw1"
   ]
  },
  {
   "cell_type": "code",
   "execution_count": 66,
   "id": "65ea58a6-3eb5-43b0-a920-ed23ec6eb742",
   "metadata": {},
   "outputs": [
    {
     "name": "stdout",
     "output_type": "stream",
     "text": [
      "this is my str function\n"
     ]
    }
   ],
   "source": [
    "print(pw1)"
   ]
  },
  {
   "cell_type": "code",
   "execution_count": 67,
   "id": "82ffaf7e-140f-43b7-808e-581a1b131d48",
   "metadata": {},
   "outputs": [],
   "source": [
    "# property decorater"
   ]
  },
  {
   "cell_type": "code",
   "execution_count": 76,
   "id": "742962bc-ffd8-4784-b52d-67e1831b5232",
   "metadata": {},
   "outputs": [],
   "source": [
    "class pwskills :\n",
    "    \n",
    "    def __init__(self, cource_price , cource_name):\n",
    "        \n",
    "        self.__cource_price = cource_price\n",
    "        self.cource_name = cource_name\n",
    "        \n",
    "    @property\n",
    "    def  cource_price_access(self):\n",
    "        return self.__cource_price\n",
    "    \n",
    "    @cource_price_access.setter\n",
    "    def cource_price_set(self, price):\n",
    "        if price <= 3500:\n",
    "            pass\n",
    "        else :\n",
    "            self.__cource_price = price\n",
    "            \n",
    "    @cource_price_access.deleter\n",
    "    def delete_cource_price(self):\n",
    "        del self.__cource_price\n",
    "        \n",
    "        "
   ]
  },
  {
   "cell_type": "code",
   "execution_count": 77,
   "id": "30a2c860-36c7-4a9f-9edf-4535fffc6b2c",
   "metadata": {},
   "outputs": [],
   "source": [
    "pw = pwskills(3500 , \"data science masters\")"
   ]
  },
  {
   "cell_type": "code",
   "execution_count": 78,
   "id": "90bca474-2477-4a9c-8abc-c025bb3c06a0",
   "metadata": {},
   "outputs": [
    {
     "data": {
      "text/plain": [
       "3500"
      ]
     },
     "execution_count": 78,
     "metadata": {},
     "output_type": "execute_result"
    }
   ],
   "source": [
    "pw.cource_price_access"
   ]
  },
  {
   "cell_type": "code",
   "execution_count": 79,
   "id": "d56db19f-fb45-4ea9-ac4b-2c8ba7353cd6",
   "metadata": {},
   "outputs": [],
   "source": [
    "del pw.delete_cource_price"
   ]
  },
  {
   "cell_type": "code",
   "execution_count": 80,
   "id": "ee8b082c-78e3-4dca-9d73-5f946f960562",
   "metadata": {},
   "outputs": [],
   "source": [
    "pw.cource_price_set= 4500"
   ]
  },
  {
   "cell_type": "code",
   "execution_count": 83,
   "id": "ea11d7ab-21c3-4c91-b8d2-498528cefaab",
   "metadata": {},
   "outputs": [
    {
     "data": {
      "text/plain": [
       "4500"
      ]
     },
     "execution_count": 83,
     "metadata": {},
     "output_type": "execute_result"
    }
   ],
   "source": [
    "pw.cource_price_access"
   ]
  },
  {
   "cell_type": "code",
   "execution_count": 2,
   "id": "cc2270c0-7b29-4968-87ae-3b3a3a2e692a",
   "metadata": {},
   "outputs": [],
   "source": [
    "# whitch is use to   function to open file"
   ]
  },
  {
   "cell_type": "code",
   "execution_count": 3,
   "id": "83d082ce-b94b-41a7-93b7-93fde76e95d1",
   "metadata": {},
   "outputs": [],
   "source": [
    "# open()-open() function is used to open a file. it returns a pointer to the begining of the file this is colled file handler or file object"
   ]
  },
  {
   "cell_type": "code",
   "execution_count": 5,
   "id": "671da4e3-b8a2-4fca-a084-53d78a471bbf",
   "metadata": {},
   "outputs": [],
   "source": [
    "# # diffrent modes to open file :- Files in Python can be opened with a built-in open() function. ...\n",
    "# 1.Files in Python can be opened with a built-in open() function. ...\n",
    "# 2.In 'r' mode, the file opens in the read mode. ...\n",
    "# # 3.In the 'w' mode, the file opens in write mode. ...\n",
    "# 4.In the 'a' mode, the file opens in append mode. ...\n",
    "# 5.In the 'r+' mode, the file opens in the read & write mode."
   ]
  },
  {
   "cell_type": "code",
   "execution_count": 2,
   "id": "f53710f4-233e-42b9-83c9-0799656ea8fb",
   "metadata": {},
   "outputs": [],
   "source": [
    "# why close() function is used :- becouse any file when we want not use this so we are use to close function and deleted it"
   ]
  },
  {
   "cell_type": "code",
   "execution_count": 3,
   "id": "5295724f-7e55-4e5a-838c-4de43aa34602",
   "metadata": {},
   "outputs": [],
   "source": [
    "# its important :- becouse file object is deleted from memory and fileis no more accessible unless we open it again"
   ]
  },
  {
   "cell_type": "code",
   "execution_count": 4,
   "id": "a16d4d38-977c-462f-ace2-e26e2f3d5fdb",
   "metadata": {},
   "outputs": [],
   "source": [
    "# 4 no :- read() this is used to read  data / content form a file and return it as a string in text mode."
   ]
  },
  {
   "cell_type": "code",
   "execution_count": 5,
   "id": "1d4462e5-9d37-4879-9ef1-a5520ec98847",
   "metadata": {},
   "outputs": [],
   "source": [
    "# readline() :- this method is used to single line from a file"
   ]
  },
  {
   "cell_type": "code",
   "execution_count": 6,
   "id": "df1ec6e2-e396-4b46-9fcf-28a807cfd1eb",
   "metadata": {},
   "outputs": [],
   "source": [
    "# readlines() :- this method is used to read all lines from a file . it will return list of line"
   ]
  },
  {
   "cell_type": "code",
   "execution_count": 7,
   "id": "3203e59d-dc5b-40fe-be45-7bab7ac04ea9",
   "metadata": {},
   "outputs": [],
   "source": [
    " # question 5 :- when we open a file using with statement there is no need to close the file explicitly"
   ]
  },
  {
   "cell_type": "code",
   "execution_count": null,
   "id": "4394badc-c173-4573-865a-9ec53dde976e",
   "metadata": {},
   "outputs": [],
   "source": [
    "qestion 6 :- write()"
   ]
  }
 ],
 "metadata": {
  "kernelspec": {
   "display_name": "Python 3 (ipykernel)",
   "language": "python",
   "name": "python3"
  },
  "language_info": {
   "codemirror_mode": {
    "name": "ipython",
    "version": 3
   },
   "file_extension": ".py",
   "mimetype": "text/x-python",
   "name": "python",
   "nbconvert_exporter": "python",
   "pygments_lexer": "ipython3",
   "version": "3.10.8"
  }
 },
 "nbformat": 4,
 "nbformat_minor": 5
}
